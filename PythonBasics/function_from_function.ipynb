{
 "cells": [
  {
   "cell_type": "markdown",
   "source": [
    "### Вызов функции из функции"
   ],
   "metadata": {
    "collapsed": false
   }
  },
  {
   "cell_type": "code",
   "execution_count": 2,
   "outputs": [],
   "source": [
    "def calc_cube_perimeter(side):\n",
    "    return side * 12"
   ],
   "metadata": {
    "collapsed": false
   }
  },
  {
   "cell_type": "code",
   "execution_count": 3,
   "outputs": [],
   "source": [
    "def calc_cube_area(side):\n",
    "    one_face = side * side\n",
    "    cube_area = one_face * 6\n",
    "    return cube_area"
   ],
   "metadata": {
    "collapsed": false
   }
  },
  {
   "cell_type": "code",
   "execution_count": 4,
   "outputs": [],
   "source": [
    "def calc_cube(side, amount):\n",
    "    one_cube_perimeter = calc_cube_perimeter(side)\n",
    "\n",
    "    full_length = one_cube_perimeter * amount\n",
    "\n",
    "    one_cube_area = calc_cube_area(side)\n",
    "\n",
    "    full_area = one_cube_area * amount\n",
    "\n",
    "    print('For', amount, 'cubes we will need sticks (m):', full_length, 'and glasses (cub cm)', full_area)"
   ],
   "metadata": {
    "collapsed": false
   }
  },
  {
   "cell_type": "code",
   "execution_count": 5,
   "outputs": [
    {
     "name": "stdout",
     "output_type": "stream",
     "text": [
      "For 2 cubes we will need sticks (m): 72 and glasses (cub cm) 108\n"
     ]
    }
   ],
   "source": [
    "calc_cube(3, 2)"
   ],
   "metadata": {
    "collapsed": false
   }
  },
  {
   "cell_type": "code",
   "execution_count": 8,
   "outputs": [
    {
     "name": "stdout",
     "output_type": "stream",
     "text": [
      "For 4 cubes, you will need sticks (m): 96 and glass (sq.m): 96\n",
      "For 26 cubes, you will need sticks (m): 156.0 and glass (sq.m): 39.0\n",
      "For 6 cubes, you will need sticks (m): 43.92 and glass (sq.m): 13.395599999999998\n"
     ]
    }
   ],
   "source": [
    "def calc_cube_perimeter(side):\n",
    "    return side * 12\n",
    "\n",
    "\n",
    "def calc_cube_area(side):\n",
    "    one_face = side * side\n",
    "    cube_area = one_face * 6\n",
    "    return cube_area\n",
    "\n",
    "\n",
    "def calc_cube(side, amount):\n",
    "    one_cube_perimeter = calc_cube_perimeter(side)\n",
    "    full_length = one_cube_perimeter * amount\n",
    "    one_cube_area = calc_cube_area(side)\n",
    "    full_area = one_cube_area * amount\n",
    "    print('For', amount, 'cubes, you will need sticks (m):', full_length, 'and glass (sq.m):', full_area)\n",
    "\n",
    "\n",
    "# Below are three calls to the calc_cube() function.\n",
    "# Each call should be on a separate line.\n",
    "calc_cube(2, 4)\n",
    "calc_cube(0.5, 26)\n",
    "calc_cube(0.61, 6)"
   ],
   "metadata": {
    "collapsed": false
   }
  },
  {
   "cell_type": "code",
   "execution_count": null,
   "outputs": [],
   "source": [],
   "metadata": {
    "collapsed": false
   }
  }
 ],
 "metadata": {
  "kernelspec": {
   "display_name": "Python 3",
   "language": "python",
   "name": "python3"
  },
  "language_info": {
   "codemirror_mode": {
    "name": "ipython",
    "version": 2
   },
   "file_extension": ".py",
   "mimetype": "text/x-python",
   "name": "python",
   "nbconvert_exporter": "python",
   "pygments_lexer": "ipython2",
   "version": "2.7.6"
  }
 },
 "nbformat": 4,
 "nbformat_minor": 0
}
