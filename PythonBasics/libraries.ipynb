{
 "cells": [
  {
   "cell_type": "code",
   "execution_count": 1,
   "outputs": [
    {
     "name": "stdout",
     "output_type": "stream",
     "text": [
      "4.0\n"
     ]
    }
   ],
   "source": [
    "import math\n",
    "\n",
    "# Теперь в программе можно применять любые функции из неё.\n",
    "square_root = math.sqrt(16)\n",
    "print(square_root)"
   ],
   "metadata": {
    "collapsed": false
   }
  },
  {
   "cell_type": "code",
   "execution_count": 5,
   "outputs": [
    {
     "name": "stdout",
     "output_type": "stream",
     "text": [
      "Вывод случайного целого числа  312\n",
      "Вывод случайного целого числа  130\n"
     ]
    }
   ],
   "source": [
    "from random import randint\n",
    "\n",
    "print(\n",
    "    \"Вывод случайного целого числа \",\n",
    "    randint(0, 1999),\n",
    ")  # например, 5\n",
    "print(\n",
    "    \"Вывод случайного целого числа \",\n",
    "    randint(0, 999),\n",
    ")  # например, 0"
   ],
   "metadata": {
    "collapsed": false
   }
  },
  {
   "cell_type": "code",
   "execution_count": 7,
   "outputs": [
    {
     "name": "stdout",
     "output_type": "stream",
     "text": [
      "Randomly chosen fruit: orange\n"
     ]
    }
   ],
   "source": [
    "import random\n",
    "\n",
    "fruits = ['apple', 'banana', 'orange', 'grape', 'kiwi']\n",
    "random_fruit = random.choice(fruits)\n",
    "print(f\"Randomly chosen fruit: {random_fruit}\")"
   ],
   "metadata": {
    "collapsed": false
   }
  },
  {
   "cell_type": "code",
   "execution_count": 8,
   "outputs": [
    {
     "name": "stdout",
     "output_type": "stream",
     "text": [
      "Random number between 0 and 1: 0.019072428263870345\n"
     ]
    }
   ],
   "source": [
    "import random\n",
    "\n",
    "random_number = random.random()\n",
    "print(f\"Random number between 0 and 1: {random_number}\")"
   ],
   "metadata": {
    "collapsed": false
   }
  },
  {
   "cell_type": "code",
   "execution_count": 10,
   "outputs": [
    {
     "name": "stdout",
     "output_type": "stream",
     "text": [
      "жвачка\n",
      "мяч\n"
     ]
    }
   ],
   "source": [
    "from random import choice  # Импорт одной функции из библиотеки\n",
    "\n",
    "def find_a_present(prizes):\n",
    "    # Обращаемся к функции напрямую: choice(), а не random.choice()\n",
    "    return choice(prizes)\n",
    "\n",
    "print(find_a_present(['кукла', 'жвачка', 'игрушечный питон']))\n",
    "print(find_a_present(['мяч', 'чебурашка', 'лосяш']))"
   ],
   "metadata": {
    "collapsed": false
   }
  },
  {
   "cell_type": "code",
   "execution_count": 14,
   "outputs": [
    {
     "name": "stdout",
     "output_type": "stream",
     "text": [
      "Норм.\n"
     ]
    }
   ],
   "source": [
    "# Подключите библиотеку random и дайте ей краткое имя\n",
    "import random as ran\n",
    "\n",
    "answers = ['Норм.', 'Лучше всех :)', 'Ну так', 'Отличненько!', 'Ничего, жить буду']\n",
    "\n",
    "def how_are_you():\n",
    "    random_answer = ran.choice(answers)\n",
    "    return random_answer\n",
    "\n",
    "\n",
    "print(how_are_you())"
   ],
   "metadata": {
    "collapsed": false
   }
  },
  {
   "cell_type": "code",
   "execution_count": null,
   "outputs": [],
   "source": [],
   "metadata": {
    "collapsed": false
   }
  }
 ],
 "metadata": {
  "kernelspec": {
   "display_name": "Python 3",
   "language": "python",
   "name": "python3"
  },
  "language_info": {
   "codemirror_mode": {
    "name": "ipython",
    "version": 2
   },
   "file_extension": ".py",
   "mimetype": "text/x-python",
   "name": "python",
   "nbconvert_exporter": "python",
   "pygments_lexer": "ipython2",
   "version": "2.7.6"
  }
 },
 "nbformat": 4,
 "nbformat_minor": 0
}
