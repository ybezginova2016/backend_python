{
 "cells": [
  {
   "cell_type": "markdown",
   "source": [
    "### Sets"
   ],
   "metadata": {
    "collapsed": false
   }
  },
  {
   "cell_type": "markdown",
   "source": [
    "### Объединение двух множеств"
   ],
   "metadata": {
    "collapsed": false
   }
  },
  {
   "cell_type": "code",
   "execution_count": 1,
   "outputs": [
    {
     "data": {
      "text/plain": "{'Happy new year', 'Last christmas', 'Снежинка', 'Три белых коня'}"
     },
     "execution_count": 1,
     "metadata": {},
     "output_type": "execute_result"
    }
   ],
   "source": [
    "playlist_1 = {'Три белых коня', 'Happy new year', 'Снежинка'}\n",
    "playlist_2 = {'Last christmas', 'Снежинка', 'Happy new year'}\n",
    "playlist_3 = playlist_1.union(playlist_2)\n",
    "\n",
    "playlist_3"
   ],
   "metadata": {
    "collapsed": false
   }
  },
  {
   "cell_type": "markdown",
   "source": [
    "### Поиск различий в двух множествах"
   ],
   "metadata": {
    "collapsed": false
   }
  },
  {
   "cell_type": "code",
   "execution_count": 2,
   "outputs": [
    {
     "name": "stdout",
     "output_type": "stream",
     "text": [
      "{'Yesterday'}\n"
     ]
    }
   ],
   "source": [
    "playlist_1 = {'Голубой вагон', 'Облака', 'Yesterday', 'Наше лето'}\n",
    "playlist_2 = {'Наше лето', 'Голубой вагон', 'Облака'}\n",
    "playlist_3 = playlist_1.difference(playlist_2)\n",
    "\n",
    "print(playlist_3)"
   ],
   "metadata": {
    "collapsed": false
   }
  },
  {
   "cell_type": "markdown",
   "source": [
    "### Поиск одинаковых элементов в двух множествах\n",
    "\n",
    "Можно найти пересечение двух множеств, то есть элементы, которые есть и в первом, и во втором множестве."
   ],
   "metadata": {
    "collapsed": false
   }
  },
  {
   "cell_type": "code",
   "execution_count": 3,
   "outputs": [],
   "source": [
    "films_1 = {'Форсаж', 'Достучаться до небес', 'Мстители: война бесконечности'}\n",
    "films_2 = {'Мстители: война бесконечности', 'Форсаж', 'Матрица'}"
   ],
   "metadata": {
    "collapsed": false
   }
  },
  {
   "cell_type": "code",
   "execution_count": 4,
   "outputs": [
    {
     "data": {
      "text/plain": "{'Мстители: война бесконечности', 'Форсаж'}"
     },
     "execution_count": 4,
     "metadata": {},
     "output_type": "execute_result"
    }
   ],
   "source": [
    "film_sim = films_1.intersection(films_2)\n",
    "\n",
    "film_sim"
   ],
   "metadata": {
    "collapsed": false
   }
  },
  {
   "cell_type": "markdown",
   "source": [
    "#### Exercise 1"
   ],
   "metadata": {
    "collapsed": false
   }
  },
  {
   "cell_type": "code",
   "execution_count": 7,
   "outputs": [],
   "source": [
    "def print_valid_cities(all_cities, used_cities):\n",
    "    valid_cities = all_cities.difference(used_cities)\n",
    "    for city in valid_cities:\n",
    "        print(city)"
   ],
   "metadata": {
    "collapsed": false
   }
  },
  {
   "cell_type": "code",
   "execution_count": 8,
   "outputs": [
    {
     "name": "stdout",
     "output_type": "stream",
     "text": [
      "Астрахань\n",
      "Караганда\n",
      "Бобруйск\n",
      "Липецк\n",
      "Кострома\n"
     ]
    }
   ],
   "source": [
    "all_cities = {\n",
    "    'Абакан',\n",
    "    'Астрахань',\n",
    "    'Бобруйск',\n",
    "    'Калуга',\n",
    "    'Караганда',\n",
    "    'Кострома',\n",
    "    'Липецк',\n",
    "    'Новосибирск'\n",
    "}\n",
    "\n",
    "used_cities = {'Калуга', 'Абакан' , 'Новосибирск'}\n",
    "\n",
    "print_valid_cities(all_cities, used_cities)"
   ],
   "metadata": {
    "collapsed": false
   }
  },
  {
   "cell_type": "code",
   "execution_count": 9,
   "outputs": [
    {
     "name": "stdout",
     "output_type": "stream",
     "text": [
      "Екатеринбург\n",
      "Владивосток\n",
      "Астрахань\n",
      "Казань\n",
      "Караганда\n",
      "Бобруйск\n",
      "Why\n",
      "Липецк\n",
      "Кострома\n",
      "Йезд\n",
      "Выборг\n"
     ]
    }
   ],
   "source": [
    "# https://www.geeksforgeeks.org/set-add-python/\n",
    "def print_valid_cities(all_cities, used_cities):\n",
    "    diff = all_cities.difference(used_cities)\n",
    "    for city in diff:\n",
    "        print(city)\n",
    "\n",
    "\n",
    "def add_cities(all_cities, new_cities):\n",
    "    for new_city in new_cities:\n",
    "        all_cities.add(new_city)\n",
    "\n",
    "# Анфиса нашла названия нескольких новых городов,\n",
    "# эти города нужно добавить в множество all_cities\n",
    "new_cities = [\n",
    "    'Екатеринбург',\n",
    "    'Выборг' ,\n",
    "    'Владивосток',\n",
    "    'Казань',\n",
    "    'Why',\n",
    "    'Йезд'\n",
    "]\n",
    "\n",
    "all_cities = {\n",
    "    'Абакан',\n",
    "    'Астрахань',\n",
    "    'Бобруйск',\n",
    "    'Калуга',\n",
    "    'Караганда',\n",
    "    'Кострома',\n",
    "    'Липецк',\n",
    "    'Новосибирск'\n",
    "}\n",
    "\n",
    "used_cities = {\n",
    "    'Калуга',\n",
    "    'Абакан' ,\n",
    "    'Новосибирск'\n",
    "}\n",
    "\n",
    "add_cities(all_cities, new_cities)\n",
    "print_valid_cities(all_cities, used_cities)"
   ],
   "metadata": {
    "collapsed": false
   }
  },
  {
   "cell_type": "markdown",
   "source": [
    "#### Exercise 2"
   ],
   "metadata": {
    "collapsed": false
   }
  },
  {
   "cell_type": "code",
   "execution_count": 10,
   "outputs": [
    {
     "name": "stdout",
     "output_type": "stream",
     "text": [
      "👾 Online-chess\n",
      "👾 DOOM\n",
      "👾 Города\n"
     ]
    }
   ],
   "source": [
    "def get_together_games(games1, games2):\n",
    "    # Напишите здесь код функции для поиска пересечений\n",
    "    together_games = games1.intersection(games2)\n",
    "    return together_games\n",
    "\n",
    "anfisa_games = [\n",
    "    'Online-chess',\n",
    "    'Города',\n",
    "    'DOOM',\n",
    "    'Крестики-нолики'\n",
    "]\n",
    "alisa_games = [\n",
    "    'DOOM',\n",
    "    'Online-chess',\n",
    "    'Города',\n",
    "    'GTA',\n",
    "    'World of tanks'\n",
    "]\n",
    "# Вызовите функцию со списками игр в качестве параметров\n",
    "together_games = get_together_games(set(anfisa_games), set(alisa_games))\n",
    "# Напечатайте итоговый перечень игр в цикле\n",
    "for g in together_games:\n",
    "    print('👾', g)"
   ],
   "metadata": {
    "collapsed": false
   }
  },
  {
   "cell_type": "markdown",
   "source": [
    "### Переменные внутри строк\n",
    "Можно печатать строки, содержащие значения переменных. Для этого ис-\n",
    "пользуются метки %s в тех местах, где должны быть значения (это называ-\n",
    "ется подстановкой, или встраиванием значений в строку).}"
   ],
   "metadata": {
    "collapsed": false
   }
  },
  {
   "cell_type": "code",
   "execution_count": 12,
   "outputs": [
    {
     "name": "stdout",
     "output_type": "stream",
     "text": [
      "Мой счет: 1000 очков\n"
     ]
    }
   ],
   "source": [
    "myscore = 1000\n",
    "message = 'Мой счет: %s очков'\n",
    "print(message % myscore)\n",
    "# Мой счет: 1000 очков"
   ],
   "metadata": {
    "collapsed": false
   }
  },
  {
   "cell_type": "code",
   "execution_count": 13,
   "outputs": [
    {
     "name": "stdout",
     "output_type": "stream",
     "text": [
      "Привет, я Анфиса!\n",
      "У тебя 7 друзей.\n",
      "Твои друзья: Серёга Соня Миша Дима Алина Егор Коля \n",
      "Твои друзья в городах: Москва Омск Пермь Красноярск Челябинск \n"
     ]
    }
   ],
   "source": [
    "DATABASE = {\n",
    "    'Серёга': 'Омск',\n",
    "    'Соня': 'Москва',\n",
    "    'Миша': 'Москва',\n",
    "    'Дима': 'Челябинск',\n",
    "    'Алина': 'Красноярск',\n",
    "    'Егор': 'Пермь',\n",
    "    'Коля': 'Красноярск'\n",
    "}\n",
    "\n",
    "def process_anfisa(query):\n",
    "    if query == 'Сколько у меня друзей?':\n",
    "        count = len(DATABASE)\n",
    "        return 'У тебя ' + str(count) + ' друзей.'\n",
    "    # Здесь проверьте, что переменная query равна строке 'Кто все мои друзья?'\n",
    "    elif query == 'Кто все мои друзья?':\n",
    "        friends_string = ''\n",
    "        # Чтобы получить перечень друзей -\n",
    "        # переберите словарь DATABASE в цикле\n",
    "        for f in DATABASE.keys():\n",
    "             friends_string += f + ' '     # Добавляйте к переменной friends_string имя друга и пробел\n",
    "        # Верните строку, составленную из 'Твои друзья: ' и friends_string\n",
    "        return 'Твои друзья: ' + friends_string\n",
    "    elif query == 'Где все мои друзья?':\n",
    "        cities_str = ''\n",
    "        cities = set(DATABASE.values())\n",
    "        for c in cities:\n",
    "            cities_str += c + ' '\n",
    "        return('Твои друзья в городах: ' + cities_str)\n",
    "    else:\n",
    "        return '<неизвестный запрос>'\n",
    "\n",
    "# Не изменяйте следующий код\n",
    "print('Привет, я Анфиса!')\n",
    "print(process_anfisa('Сколько у меня друзей?'))\n",
    "print(process_anfisa('Кто все мои друзья?'))\n",
    "print(process_anfisa('Где все мои друзья?'))"
   ],
   "metadata": {
    "collapsed": false
   }
  },
  {
   "cell_type": "code",
   "execution_count": null,
   "outputs": [],
   "source": [],
   "metadata": {
    "collapsed": false
   }
  }
 ],
 "metadata": {
  "kernelspec": {
   "display_name": "Python 3",
   "language": "python",
   "name": "python3"
  },
  "language_info": {
   "codemirror_mode": {
    "name": "ipython",
    "version": 2
   },
   "file_extension": ".py",
   "mimetype": "text/x-python",
   "name": "python",
   "nbconvert_exporter": "python",
   "pygments_lexer": "ipython2",
   "version": "2.7.6"
  }
 },
 "nbformat": 4,
 "nbformat_minor": 0
}
