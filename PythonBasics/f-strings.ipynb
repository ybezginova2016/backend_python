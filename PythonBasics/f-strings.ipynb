{
 "cells": [
  {
   "cell_type": "code",
   "execution_count": 2,
   "metadata": {
    "collapsed": true
   },
   "outputs": [
    {
     "name": "stdout",
     "output_type": "stream",
     "text": [
      "Не имей 100 рублей, а имей 100 друзей.\n"
     ]
    }
   ],
   "source": [
    "one_hundred = 100\n",
    "rubles = 'рублей'\n",
    "friends = 'друзей'\n",
    "print(f'Не имей {one_hundred} {rubles}, а имей {one_hundred} {friends}.')"
   ]
  },
  {
   "cell_type": "code",
   "execution_count": 3,
   "outputs": [
    {
     "name": "stdout",
     "output_type": "stream",
     "text": [
      "Сейчас облачно , на градуснике 24.\n"
     ]
    }
   ],
   "source": [
    "def show_meteo(temperature, weather):\n",
    "    # print('Сейчас ' + weather + ', на градуснике ' + str(temperature) + '.')\n",
    "    print(f'Сейчас {weather}, на градуснике {temperature}.')\n",
    "\n",
    "show_meteo(24, 'облачно')"
   ],
   "metadata": {
    "collapsed": false
   }
  },
  {
   "cell_type": "code",
   "execution_count": null,
   "outputs": [],
   "source": [
    "def show_meteo(temperature, weather):\n",
    "    print()"
   ],
   "metadata": {
    "collapsed": false
   }
  },
  {
   "cell_type": "code",
   "execution_count": 5,
   "outputs": [
    {
     "name": "stdout",
     "output_type": "stream",
     "text": [
      "У вас нет новых сообщений\n",
      "У вас 1 новое сообщение\n",
      "У вас 2 новых сообщения\n",
      "У вас 3 новых сообщения\n",
      "У вас 4 новых сообщения\n"
     ]
    }
   ],
   "source": [
    "for messages_count in range(0, 5):\n",
    "    if messages_count == 0:\n",
    "        print('У вас нет новых сообщений')\n",
    "    elif messages_count == 1:\n",
    "        print('У вас 1 новое сообщение')\n",
    "    elif messages_count <= 4:\n",
    "        print('У вас ' + str(messages_count) + ' новых сообщения')\n",
    "    else:\n",
    "        print('У вас ' + str(messages_count) + ' новых сообщений')"
   ],
   "metadata": {
    "collapsed": false
   }
  },
  {
   "cell_type": "code",
   "execution_count": 6,
   "outputs": [
    {
     "name": "stdout",
     "output_type": "stream",
     "text": [
      "У вас нет новых сообщений\n",
      "У вас 1 новое сообщение\n",
      "У вас 2 новых сообщения\n",
      "У вас 3 новых сообщения\n",
      "У вас 4 новых сообщения\n"
     ]
    }
   ],
   "source": [
    "for messages_count in range(0, 5):\n",
    "    if messages_count == 0:\n",
    "        print(f'У вас нет новых сообщений')\n",
    "    elif messages_count == 1:\n",
    "        print(f'У вас {messages_count} новое сообщение')\n",
    "    elif messages_count <= 4:\n",
    "        print(f'У вас {messages_count} новых сообщения')\n",
    "    else:\n",
    "        print(f'У вас {messages_count} новых сообщений')"
   ],
   "metadata": {
    "collapsed": false
   }
  },
  {
   "cell_type": "code",
   "execution_count": 7,
   "outputs": [
    {
     "name": "stdout",
     "output_type": "stream",
     "text": [
      "На часах 19:28:06\n"
     ]
    }
   ],
   "source": [
    "def print_time(hour, minute, second):\n",
    "    print(f'На часах {hour}:{minute}:{second}')  # Аргумент должен содержать f-строку\n",
    "\n",
    "print_time('19', '28', '06')"
   ],
   "metadata": {
    "collapsed": false
   }
  },
  {
   "cell_type": "code",
   "execution_count": 8,
   "outputs": [
    {
     "name": "stdout",
     "output_type": "stream",
     "text": [
      "Вы прослушали 10 песен.\n"
     ]
    }
   ],
   "source": [
    "def calc_stat(listened):  # От англ. calculate statistics, посчитать статистику\n",
    "    # Напишите код функции calc_stat()\n",
    "    return f'Вы прослушали {len(listened)} песен.'\n",
    "\n",
    "print(calc_stat([189, 148, 210, 144, 174, 158, 163, 189, 227, 198]))"
   ],
   "metadata": {
    "collapsed": false
   }
  },
  {
   "cell_type": "code",
   "execution_count": 9,
   "outputs": [
    {
     "name": "stdout",
     "output_type": "stream",
     "text": [
      "Вы прослушали 10 песен общей продолжительностью 30 минут.\n"
     ]
    }
   ],
   "source": [
    "def calc_stat(listened):  # От англ. calculate statistics, посчитать статистику\n",
    "    # Напишите код функции calc_stat()\n",
    "    # return f'Вы прослушали {len(listened)} песен.'\n",
    "    summa = 0\n",
    "    for l in listened:\n",
    "        summa += l\n",
    "        total_min = int(summa / 60)\n",
    "    return f'Вы прослушали {len(listened)} песен общей продолжительностью {total_min} минут.'\n",
    "\n",
    "\n",
    "print(calc_stat([189, 148, 210, 144, 174, 158, 163, 189, 227, 198]))"
   ],
   "metadata": {
    "collapsed": false
   }
  },
  {
   "cell_type": "code",
   "execution_count": 10,
   "outputs": [
    {
     "name": "stdout",
     "output_type": "stream",
     "text": [
      "Привет, я Анфиса!\n",
      "У тебя 7 друзей.\n",
      "Твои друзья: Серёга, Соня, Миша, Дима, Алина, Егор, Коля\n",
      "Твои друзья в городах: Москва, Красноярск, Омск, Челябинск, Пермь\n"
     ]
    }
   ],
   "source": [
    "DATABASE = {\n",
    "    'Серёга': 'Омск',\n",
    "    'Соня': 'Москва',\n",
    "    'Миша': 'Москва',\n",
    "    'Дима': 'Челябинск',\n",
    "    'Алина': 'Красноярск',\n",
    "    'Егор': 'Пермь',\n",
    "    'Коля': 'Красноярск'\n",
    "}\n",
    "\n",
    "def process_anfisa(query):\n",
    "    if query == 'Сколько у меня друзей?':\n",
    "        count = len(DATABASE)\n",
    "        # В следующей строке замените конкатенацию на f-строку\n",
    "        return f'У тебя {count} друзей.'\n",
    "    elif query == 'Кто все мои друзья?':\n",
    "        friends_string = ', '.join(DATABASE)\n",
    "        # В следующей строке замените конкатенацию на f-строку\n",
    "        return f'Твои друзья: {friends_string}'\n",
    "    elif query == 'Где все мои друзья?':\n",
    "        unique_cities = set(DATABASE.values())\n",
    "        cities_string = ', '.join(unique_cities)\n",
    "        # В следующей строке замените конкатенацию на f-строку\n",
    "        return f'Твои друзья в городах: {cities_string}'\n",
    "    else:\n",
    "        return '<неизвестный запрос>'\n",
    "\n",
    "\n",
    "print('Привет, я Анфиса!')\n",
    "print(process_anfisa('Сколько у меня друзей?'))\n",
    "print(process_anfisa('Кто все мои друзья?'))\n",
    "print(process_anfisa('Где все мои друзья?'))"
   ],
   "metadata": {
    "collapsed": false
   }
  },
  {
   "cell_type": "code",
   "execution_count": 11,
   "outputs": [
    {
     "name": "stdout",
     "output_type": "stream",
     "text": [
      "Привет, я Анфиса!\n",
      "У тебя 7 друзей.\n",
      "Твои друзья: Серёга, Соня, Миша, Дима, Алина, Егор, Коля\n",
      "Твои друзья в городах: Москва, Красноярск, Омск, Челябинск, Пермь\n",
      "<неизвестный запрос>\n"
     ]
    }
   ],
   "source": [
    "DATABASE = {\n",
    "    'Серёга': 'Омск',\n",
    "    'Соня': 'Москва',\n",
    "    'Миша': 'Москва',\n",
    "    'Дима': 'Челябинск',\n",
    "    'Алина': 'Красноярск',\n",
    "    'Егор': 'Пермь',\n",
    "    'Коля': 'Красноярск'\n",
    "}\n",
    "\n",
    "# Новая функция, она возвращает правильное словосочетание, склоняя слово \"друзья\"\n",
    "# в зависимости от того, какое число передано в аргументе friends_count\n",
    "def format_friends_count(friends_count):\n",
    "    if friends_count == 1:\n",
    "        return '1 друг'\n",
    "    elif 2 <= friends_count <= 4:\n",
    "        return f'{friends_count} друга'\n",
    "    else:\n",
    "        return f'{friends_count} друзей'\n",
    "\n",
    "def process_anfisa(query):\n",
    "    if query == 'сколько у меня друзей?':\n",
    "        count = len(DATABASE)\n",
    "        # Вызовите функцию format_friends_count() и передайте в неё count.\n",
    "        # Отредактируйте строку ниже: в ней должно использоваться выражение,\n",
    "        # которое вернёт функция format_friends_count()\n",
    "        return f'У тебя {format_friends_count(count)}.'\n",
    "    elif query == 'кто все мои друзья?':\n",
    "        friends_string = ', '.join(DATABASE)\n",
    "        return f'Твои друзья: {friends_string}'\n",
    "    elif query == 'где все мои друзья?':\n",
    "        unique_cities = set(DATABASE.values())\n",
    "        cities_string = ', '.join(unique_cities)\n",
    "        return f'Твои друзья в городах: {cities_string}'\n",
    "    else:\n",
    "        return '<неизвестный запрос>'\n",
    "\n",
    "print('Привет, я Анфиса!')\n",
    "print(process_anfisa('сколько у меня друзей?'))\n",
    "print(process_anfisa('кто все мои друзья?'))\n",
    "print(process_anfisa('где все мои друзья?'))\n",
    "print(process_anfisa('кто виноват?'))"
   ],
   "metadata": {
    "collapsed": false
   }
  },
  {
   "cell_type": "code",
   "execution_count": 12,
   "outputs": [
    {
     "name": "stdout",
     "output_type": "stream",
     "text": [
      "Привет, я Анфиса!\n",
      "У тебя 7 друзей.\n",
      "Твои друзья: Серёга, Соня, Миша, Дима, Алина, Егор, Коля\n",
      "Твои друзья в городах: Москва, Красноярск, Омск, Челябинск, Пермь\n",
      "<неизвестный запрос>\n",
      "None\n"
     ]
    }
   ],
   "source": [
    "DATABASE = {\n",
    "    'Серёга': 'Омск',\n",
    "    'Соня': 'Москва',\n",
    "    'Миша': 'Москва',\n",
    "    'Дима': 'Челябинск',\n",
    "    'Алина': 'Красноярск',\n",
    "    'Егор': 'Пермь',\n",
    "    'Коля': 'Красноярск'\n",
    "}\n",
    "\n",
    "# Новая функция, она возвращает правильное словосочетание, склоняя слово \"друзья\"\n",
    "# в зависимости от того, какое число передано в аргументе friends_count\n",
    "def format_friends_count(friends_count):\n",
    "    if friends_count == 1:\n",
    "        return '1 друг'\n",
    "    elif 2 <= friends_count <= 4:\n",
    "        return f'{friends_count} друга'\n",
    "    else:\n",
    "        return f'{friends_count} друзей'\n",
    "\n",
    "def process_anfisa(query):\n",
    "    if query == 'сколько у меня друзей?':\n",
    "        count = len(DATABASE)\n",
    "        # Вызовите функцию format_friends_count() и передайте в неё count.\n",
    "        # Отредактируйте строку ниже: в ней должно использоваться выражение,\n",
    "        # которое вернёт функция format_friends_count()\n",
    "        return f'У тебя {format_friends_count(count)}.'\n",
    "    elif query == 'кто все мои друзья?':\n",
    "        friends_string = ', '.join(DATABASE)\n",
    "        return f'Твои друзья: {friends_string}'\n",
    "    elif query == 'где все мои друзья?':\n",
    "        unique_cities = set(DATABASE.values())\n",
    "        cities_string = ', '.join(unique_cities)\n",
    "        return f'Твои друзья в городах: {cities_string}'\n",
    "    else:\n",
    "        return '<неизвестный запрос>'\n",
    "\n",
    "def process_query(query):\n",
    "    name, question = query.split(', ')\n",
    "    if name == 'Анфиса':\n",
    "        return process_anfisa(question)\n",
    "\n",
    "print('Привет, я Анфиса!')\n",
    "# print(process_anfisa('сколько у меня друзей?'))\n",
    "# print(process_anfisa('кто все мои друзья?'))\n",
    "# print(process_anfisa('где все мои друзья?'))\n",
    "print(process_query('Анфиса, сколько у меня друзей?'))\n",
    "print(process_query('Анфиса, кто все мои друзья?'))\n",
    "print(process_query('Анфиса, где все мои друзья?'))\n",
    "print(process_query('Анфиса, кто виноват?'))\n",
    "print(process_query('Соня, ты где?'))\n"
   ],
   "metadata": {
    "collapsed": false
   }
  },
  {
   "cell_type": "code",
   "execution_count": null,
   "outputs": [],
   "source": [],
   "metadata": {
    "collapsed": false
   }
  }
 ],
 "metadata": {
  "kernelspec": {
   "display_name": "Python 3",
   "language": "python",
   "name": "python3"
  },
  "language_info": {
   "codemirror_mode": {
    "name": "ipython",
    "version": 2
   },
   "file_extension": ".py",
   "mimetype": "text/x-python",
   "name": "python",
   "nbconvert_exporter": "python",
   "pygments_lexer": "ipython2",
   "version": "2.7.6"
  }
 },
 "nbformat": 4,
 "nbformat_minor": 0
}
