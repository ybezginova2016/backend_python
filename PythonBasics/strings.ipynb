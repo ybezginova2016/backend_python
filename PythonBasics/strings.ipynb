{
 "cells": [
  {
   "cell_type": "markdown",
   "source": [
    "### Буквы под номерами: индексы"
   ],
   "metadata": {
    "collapsed": false
   }
  },
  {
   "cell_type": "code",
   "execution_count": 1,
   "outputs": [
    {
     "name": "stdout",
     "output_type": "stream",
     "text": [
      "Я\n",
      " \n",
      "п\n",
      "и\n",
      "т\n",
      "о\n",
      "н\n"
     ]
    }
   ],
   "source": [
    "monument_string = 'Я памятник себе воздвиг нерукотворный'\n",
    "\n",
    "index_list = [0, 1, 2, 8, 6, 17, 24]\n",
    "\n",
    "for i in index_list:\n",
    "    # На каждой итерации цикла\n",
    "    # берём из строки monument_string элемент с индексом i и печатаем полученную букву\n",
    "    print(monument_string[i])"
   ],
   "metadata": {
    "collapsed": false
   }
  },
  {
   "cell_type": "code",
   "execution_count": 2,
   "outputs": [
    {
     "name": "stdout",
     "output_type": "stream",
     "text": [
      "['м', 'л', 'к', 'в', 'з']\n"
     ]
    }
   ],
   "source": [
    "milk_str = 'молоковоз'\n",
    "\n",
    "# Применяем метод split() с аргументом 'о':\n",
    "new_list = milk_str.split('о')\n",
    "\n",
    "print(new_list)\n",
    "# Будет напечатано: ['м', 'л', 'к', 'в', 'з']"
   ],
   "metadata": {
    "collapsed": false
   }
  },
  {
   "cell_type": "code",
   "execution_count": 3,
   "outputs": [
    {
     "data": {
      "text/plain": "\"\\n- Удалите ненужные циклы; каждый из них состоит из двух строк.\\n\\n-Чтобы составить перечень имён друзей — примените метод join() с аргументом DATABASE к строке ', '. Результат присвойте переменной friends_string: friends_string = ', '.join(DATABASE).\\n\\n- Перечень городов cities_string создаётся аналогично, но не из словаря DATABASE, а из сета unique_cities: в аргументе метода join() должно быть указано unique_cities.\\n\""
     },
     "execution_count": 3,
     "metadata": {},
     "output_type": "execute_result"
    }
   ],
   "source": [
    "\"\"\"\n",
    "- Удалите ненужные циклы; каждый из них состоит из двух строк.\n",
    "\n",
    "-Чтобы составить перечень имён друзей — примените метод join() с аргументом DATABASE к строке ', '. Результат присвойте переменной friends_string: friends_string = ', '.join(DATABASE).\n",
    "\n",
    "- Перечень городов cities_string создаётся аналогично, но не из словаря DATABASE, а из сета unique_cities: в аргументе метода join() должно быть указано unique_cities.\n",
    "\"\"\""
   ],
   "metadata": {
    "collapsed": false
   }
  },
  {
   "cell_type": "code",
   "execution_count": 9,
   "outputs": [
    {
     "name": "stdout",
     "output_type": "stream",
     "text": [
      "Привет, я Анфиса!\n",
      "У тебя 7 друзей.\n",
      "Твои друзья: Серёга, Соня, Миша, Дима, Алина, Егор, Коля\n",
      "Твои друзья в городах: Челябинск, Красноярск, Москва, Пермь, Омск\n"
     ]
    }
   ],
   "source": [
    "DATABASE = {\n",
    "    'Серёга': 'Омск',\n",
    "    'Соня': 'Москва',\n",
    "    'Миша': 'Москва',\n",
    "    'Дима': 'Челябинск',\n",
    "    'Алина': 'Красноярск',\n",
    "    'Егор': 'Пермь',\n",
    "    'Коля': 'Красноярск'\n",
    "}\n",
    "\n",
    "def process_anfisa(query):\n",
    "    if query == 'Сколько у меня друзей?':\n",
    "        count = len(DATABASE)\n",
    "\n",
    "        return 'У тебя ' + str(count) + ' друзей.'\n",
    "    elif query == 'Кто все мои друзья?':\n",
    "        # Из словаря DATABASE создайте строку с помощью join();\n",
    "        # имена друзей разделите запятой и пробелом.\n",
    "        # Запишите эту строку в переменную friends_string (вместо пустых кавычек).\n",
    "        # friends_string = ''\n",
    "        friends_string = ', '.join(DATABASE)\n",
    "\n",
    "        # # Этот цикл больше не понадобится, удалите его\n",
    "        # for friend in DATABASE:\n",
    "        #     friends_string += friend + ' '\n",
    "\n",
    "        return 'Твои друзья: ' + friends_string\n",
    "    elif query == 'Где все мои друзья?':\n",
    "        unique_cities = set(DATABASE.values())\n",
    "        # Из сета unique_cities создайте строку с помощью join();\n",
    "        # названия городов разделите запятой и пробелом.\n",
    "        # Запишите эту строку в переменную cities_string (вместо пустых кавычек).\n",
    "        cities_string = ', '.join(unique_cities)\n",
    "\n",
    "        # # Этот цикл больше не понадобится, удалите его\n",
    "        # for city in unique_cities:\n",
    "        #     cities_string += city + ' '\n",
    "\n",
    "        return 'Твои друзья в городах: ' + cities_string\n",
    "    else:\n",
    "        return '<неизвестный запрос>'\n",
    "\n",
    "\n",
    "print('Привет, я Анфиса!')\n",
    "print(process_anfisa('Сколько у меня друзей?'))\n",
    "print(process_anfisa('Кто все мои друзья?'))\n",
    "print(process_anfisa('Где все мои друзья?'))"
   ],
   "metadata": {
    "collapsed": false
   }
  },
  {
   "cell_type": "code",
   "execution_count": 10,
   "outputs": [
    {
     "data": {
      "text/plain": "{'Красноярск', 'Москва', 'Омск', 'Пермь', 'Челябинск'}"
     },
     "execution_count": 10,
     "metadata": {},
     "output_type": "execute_result"
    }
   ],
   "source": [
    "unique_cities = set(DATABASE.values())\n",
    "unique_cities"
   ],
   "metadata": {
    "collapsed": false
   }
  },
  {
   "cell_type": "code",
   "execution_count": null,
   "outputs": [],
   "source": [],
   "metadata": {
    "collapsed": false
   }
  }
 ],
 "metadata": {
  "kernelspec": {
   "display_name": "Python 3",
   "language": "python",
   "name": "python3"
  },
  "language_info": {
   "codemirror_mode": {
    "name": "ipython",
    "version": 2
   },
   "file_extension": ".py",
   "mimetype": "text/x-python",
   "name": "python",
   "nbconvert_exporter": "python",
   "pygments_lexer": "ipython2",
   "version": "2.7.6"
  }
 },
 "nbformat": 4,
 "nbformat_minor": 0
}
